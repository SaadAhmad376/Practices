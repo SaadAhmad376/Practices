{
 "cells": [
  {
   "cell_type": "code",
   "execution_count": 1,
   "id": "74c41d9e",
   "metadata": {},
   "outputs": [],
   "source": [
    "import torch\n",
    "from torch import nn\n",
    "import sys\n",
    "import torchvision\n",
    "from matplotlib.pyplot import imshow"
   ]
  },
  {
   "cell_type": "code",
   "execution_count": 2,
   "id": "402c1553",
   "metadata": {},
   "outputs": [],
   "source": [
    "img_transformer = torchvision.transforms.ToTensor()"
   ]
  },
  {
   "cell_type": "code",
   "execution_count": null,
   "id": "9163365e",
   "metadata": {},
   "outputs": [],
   "source": [
    "class Net(nn.Module):\n",
    "    def __init__():\n",
    "        super().__init__()\n",
    "        "
   ]
  },
  {
   "cell_type": "code",
   "execution_count": 4,
   "id": "71fd6759",
   "metadata": {},
   "outputs": [],
   "source": [
    "sample_arr = torch.randint(0,255,(255,255,3), dtype = torch.float32\n",
    "                          )"
   ]
  },
  {
   "cell_type": "code",
   "execution_count": 21,
   "id": "245abc3d",
   "metadata": {},
   "outputs": [],
   "source": [
    "device = 'cpu'"
   ]
  },
  {
   "cell_type": "code",
   "execution_count": 84,
   "id": "7acf4584",
   "metadata": {
    "collapsed": true
   },
   "outputs": [
    {
     "data": {
      "text/plain": [
       "tensor([[[110., 161., 169.],\n",
       "         [123.,  26., 254.],\n",
       "         [ 40., 144.,  22.],\n",
       "         ...,\n",
       "         [105.,  30., 137.],\n",
       "         [175., 213., 169.],\n",
       "         [200., 201.,  27.]],\n",
       "\n",
       "        [[182.,  51., 223.],\n",
       "         [199., 118., 101.],\n",
       "         [108.,  63.,  35.],\n",
       "         ...,\n",
       "         [ 18.,  73.,  43.],\n",
       "         [211.,  52., 166.],\n",
       "         [211.,  69.,  42.]],\n",
       "\n",
       "        [[ 50., 148., 169.],\n",
       "         [191., 146.,  63.],\n",
       "         [ 77., 156., 193.],\n",
       "         ...,\n",
       "         [165., 224., 141.],\n",
       "         [149., 117., 237.],\n",
       "         [156., 162.,  30.]],\n",
       "\n",
       "        ...,\n",
       "\n",
       "        [[243., 223.,  37.],\n",
       "         [ 57.,  55., 161.],\n",
       "         [140., 113., 104.],\n",
       "         ...,\n",
       "         [ 85., 181., 244.],\n",
       "         [163.,  25.,   2.],\n",
       "         [147., 169.,  69.]],\n",
       "\n",
       "        [[198.,  62., 220.],\n",
       "         [ 59.,   2.,  29.],\n",
       "         [ 29., 188.,  82.],\n",
       "         ...,\n",
       "         [ 81.,  16., 244.],\n",
       "         [132., 188., 167.],\n",
       "         [221., 224., 147.]],\n",
       "\n",
       "        [[ 97., 143.,  82.],\n",
       "         [158., 120., 174.],\n",
       "         [254., 187.,   7.],\n",
       "         ...,\n",
       "         [248., 227., 125.],\n",
       "         [ 80.,  44., 224.],\n",
       "         [137., 140., 202.]]])"
      ]
     },
     "execution_count": 84,
     "metadata": {},
     "output_type": "execute_result"
    }
   ],
   "source": [
    "sample_arr.to(device)"
   ]
  },
  {
   "cell_type": "code",
   "execution_count": 87,
   "id": "f7160b98",
   "metadata": {},
   "outputs": [
    {
     "data": {
      "text/plain": [
       "Conv2d(3, 64, kernel_size=(3, 3), stride=(1, 1), bias=False)"
      ]
     },
     "execution_count": 87,
     "metadata": {},
     "output_type": "execute_result"
    }
   ],
   "source": [
    "conv1.to(device)"
   ]
  },
  {
   "cell_type": "code",
   "execution_count": 28,
   "id": "75a68371",
   "metadata": {},
   "outputs": [],
   "source": [
    "conv1 = nn.Conv2d(3,64, 3, bias=False)\n",
    "max1 = nn.MaxPool2d(2,1)"
   ]
  },
  {
   "cell_type": "code",
   "execution_count": 23,
   "id": "31fa7d57",
   "metadata": {},
   "outputs": [],
   "source": [
    "x = conv1(sample_arr.reshape(3, 255,255))"
   ]
  },
  {
   "cell_type": "code",
   "execution_count": 24,
   "id": "a7e1ad84",
   "metadata": {},
   "outputs": [
    {
     "data": {
      "text/plain": [
       "torch.Size([64, 253, 253])"
      ]
     },
     "execution_count": 24,
     "metadata": {},
     "output_type": "execute_result"
    }
   ],
   "source": [
    "x.shape"
   ]
  },
  {
   "cell_type": "code",
   "execution_count": 25,
   "id": "a337f479",
   "metadata": {},
   "outputs": [],
   "source": [
    "max2 = nn.MaxPool2d(2,2)"
   ]
  },
  {
   "cell_type": "code",
   "execution_count": 31,
   "id": "1616a377",
   "metadata": {},
   "outputs": [
    {
     "data": {
      "text/plain": [
       "torch.Size([255, 255, 3])"
      ]
     },
     "execution_count": 31,
     "metadata": {},
     "output_type": "execute_result"
    }
   ],
   "source": [
    "sample_arr.shape"
   ]
  },
  {
   "cell_type": "code",
   "execution_count": 29,
   "id": "34947f4e",
   "metadata": {},
   "outputs": [],
   "source": [
    "x = max2(sample_arr)"
   ]
  },
  {
   "cell_type": "code",
   "execution_count": 30,
   "id": "7e18bb14",
   "metadata": {},
   "outputs": [
    {
     "data": {
      "text/plain": [
       "torch.Size([255, 127, 1])"
      ]
     },
     "execution_count": 30,
     "metadata": {},
     "output_type": "execute_result"
    }
   ],
   "source": [
    "x.shape"
   ]
  },
  {
   "cell_type": "code",
   "execution_count": 5,
   "id": "225ed33c",
   "metadata": {
    "collapsed": true
   },
   "outputs": [
    {
     "data": {
      "text/plain": [
       "MaxPool2d(kernel_size=2, stride=2, padding=0, dilation=1, ceil_mode=False)"
      ]
     },
     "execution_count": 5,
     "metadata": {},
     "output_type": "execute_result"
    }
   ],
   "source": [
    "nn.Conv2d(3,64, 3)\n",
    "nn.MaxPool2d(2)"
   ]
  },
  {
   "cell_type": "code",
   "execution_count": null,
   "id": "b3066936",
   "metadata": {},
   "outputs": [],
   "source": []
  },
  {
   "cell_type": "code",
   "execution_count": null,
   "id": "a238a64a",
   "metadata": {},
   "outputs": [],
   "source": []
  },
  {
   "cell_type": "code",
   "execution_count": null,
   "id": "d384a817",
   "metadata": {},
   "outputs": [],
   "source": []
  },
  {
   "cell_type": "code",
   "execution_count": null,
   "id": "c40c6e39",
   "metadata": {},
   "outputs": [],
   "source": []
  },
  {
   "cell_type": "code",
   "execution_count": null,
   "id": "25cb5cbb",
   "metadata": {},
   "outputs": [],
   "source": []
  }
 ],
 "metadata": {
  "kernelspec": {
   "display_name": "Python 3 (ipykernel)",
   "language": "python",
   "name": "python3"
  },
  "language_info": {
   "codemirror_mode": {
    "name": "ipython",
    "version": 3
   },
   "file_extension": ".py",
   "mimetype": "text/x-python",
   "name": "python",
   "nbconvert_exporter": "python",
   "pygments_lexer": "ipython3",
   "version": "3.8.15"
  }
 },
 "nbformat": 4,
 "nbformat_minor": 5
}
